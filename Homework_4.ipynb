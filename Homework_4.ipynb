{
  "nbformat": 4,
  "nbformat_minor": 0,
  "metadata": {
    "colab": {
      "name": "Homework_4.ipynb",
      "provenance": [],
      "collapsed_sections": [],
      "include_colab_link": true
    },
    "kernelspec": {
      "display_name": "Python 3",
      "language": "python",
      "name": "python3"
    },
    "language_info": {
      "codemirror_mode": {
        "name": "ipython",
        "version": 3
      },
      "file_extension": ".py",
      "mimetype": "text/x-python",
      "name": "python",
      "nbconvert_exporter": "python",
      "pygments_lexer": "ipython3",
      "version": "3.8.2"
    }
  },
  "cells": [
    {
      "cell_type": "markdown",
      "metadata": {
        "id": "view-in-github",
        "colab_type": "text"
      },
      "source": [
        "<a href=\"https://colab.research.google.com/github/yeyiLee/ML_linear-regression/blob/main/Homework_4.ipynb\" target=\"_parent\"><img src=\"https://colab.research.google.com/assets/colab-badge.svg\" alt=\"Open In Colab\"/></a>"
      ]
    },
    {
      "cell_type": "markdown",
      "metadata": {
        "id": "Av6HFuZpSeA6"
      },
      "source": [
        "### **Homework 4: Simple Linear Regression**\n",
        "\n",
        "> **Student name:**  *(이예이)*\n",
        "\n",
        "> **Student ID:** *(2018315065)*"
      ]
    },
    {
      "cell_type": "markdown",
      "metadata": {
        "id": "UJuYRCPpYHsR"
      },
      "source": [
        "### **1 - Data descripsion**\n",
        "\n",
        "In this homework, we are going to work with the hourly/daily  weather dataset of Szeged, Hungary area, between 2006 and 2016. The dataset includes 11 columns as bellow:\n",
        "\n",
        "* time\n",
        "* summary\n",
        "* precipType\n",
        "* temperature\n",
        "* apparentTemperature\n",
        "* humidity\n",
        "* windSpeed\n",
        "* windBearing\n",
        "* visibility\n",
        "* loudCover\n",
        "* pressure\n",
        "\n",
        "\n",
        "First, you need to **upload** the  **weatherHistory.csv** file to your Google Drive in the folder **Colab Notebooks**\n",
        "\n",
        "Then on the left  Tool bar, select **Files** $\\rightarrow$ **Mount Drive**\n",
        "\n",
        "Now, we read the data and see its columns."
      ]
    },
    {
      "cell_type": "code",
      "metadata": {
        "colab": {
          "base_uri": "https://localhost:8080/",
          "height": 306
        },
        "id": "SkR0BR9ZTwo2",
        "outputId": "1fb45e9e-b02e-4669-8339-a19687763761"
      },
      "source": [
        "### read data\n",
        "import os \n",
        "os.chdir ('/Users/liruiyi/projects/learning/nb/MLcourse')\n",
        "import pandas as pd\n",
        "data_frame = pd.read_csv('/Users/liruiyi/projects/learning/nb/MLcourse/weatherHistory.csv')\n",
        "data_frame.head()"
      ],
      "execution_count": null,
      "outputs": [
        {
          "output_type": "execute_result",
          "data": {
            "text/html": [
              "<div>\n",
              "<style scoped>\n",
              "    .dataframe tbody tr th:only-of-type {\n",
              "        vertical-align: middle;\n",
              "    }\n",
              "\n",
              "    .dataframe tbody tr th {\n",
              "        vertical-align: top;\n",
              "    }\n",
              "\n",
              "    .dataframe thead th {\n",
              "        text-align: right;\n",
              "    }\n",
              "</style>\n",
              "<table border=\"1\" class=\"dataframe\">\n",
              "  <thead>\n",
              "    <tr style=\"text-align: right;\">\n",
              "      <th></th>\n",
              "      <th>Formatted Date</th>\n",
              "      <th>Summary</th>\n",
              "      <th>Precip Type</th>\n",
              "      <th>Temperature (C)</th>\n",
              "      <th>Apparent Temperature (C)</th>\n",
              "      <th>Humidity</th>\n",
              "      <th>Wind Speed (km/h)</th>\n",
              "      <th>Wind Bearing (degrees)</th>\n",
              "      <th>Visibility (km)</th>\n",
              "      <th>Loud Cover</th>\n",
              "      <th>Pressure (millibars)</th>\n",
              "      <th>Daily Summary</th>\n",
              "    </tr>\n",
              "  </thead>\n",
              "  <tbody>\n",
              "    <tr>\n",
              "      <th>0</th>\n",
              "      <td>2006-04-01 00:00:00.000 +0200</td>\n",
              "      <td>Partly Cloudy</td>\n",
              "      <td>rain</td>\n",
              "      <td>9.472222</td>\n",
              "      <td>7.388889</td>\n",
              "      <td>0.89</td>\n",
              "      <td>14.1197</td>\n",
              "      <td>251.0</td>\n",
              "      <td>15.8263</td>\n",
              "      <td>0.0</td>\n",
              "      <td>1015.13</td>\n",
              "      <td>Partly cloudy throughout the day.</td>\n",
              "    </tr>\n",
              "    <tr>\n",
              "      <th>1</th>\n",
              "      <td>2006-04-01 01:00:00.000 +0200</td>\n",
              "      <td>Partly Cloudy</td>\n",
              "      <td>rain</td>\n",
              "      <td>9.355556</td>\n",
              "      <td>7.227778</td>\n",
              "      <td>0.86</td>\n",
              "      <td>14.2646</td>\n",
              "      <td>259.0</td>\n",
              "      <td>15.8263</td>\n",
              "      <td>0.0</td>\n",
              "      <td>1015.63</td>\n",
              "      <td>Partly cloudy throughout the day.</td>\n",
              "    </tr>\n",
              "    <tr>\n",
              "      <th>2</th>\n",
              "      <td>2006-04-01 02:00:00.000 +0200</td>\n",
              "      <td>Mostly Cloudy</td>\n",
              "      <td>rain</td>\n",
              "      <td>9.377778</td>\n",
              "      <td>9.377778</td>\n",
              "      <td>0.89</td>\n",
              "      <td>3.9284</td>\n",
              "      <td>204.0</td>\n",
              "      <td>14.9569</td>\n",
              "      <td>0.0</td>\n",
              "      <td>1015.94</td>\n",
              "      <td>Partly cloudy throughout the day.</td>\n",
              "    </tr>\n",
              "    <tr>\n",
              "      <th>3</th>\n",
              "      <td>2006-04-01 03:00:00.000 +0200</td>\n",
              "      <td>Partly Cloudy</td>\n",
              "      <td>rain</td>\n",
              "      <td>8.288889</td>\n",
              "      <td>5.944444</td>\n",
              "      <td>0.83</td>\n",
              "      <td>14.1036</td>\n",
              "      <td>269.0</td>\n",
              "      <td>15.8263</td>\n",
              "      <td>0.0</td>\n",
              "      <td>1016.41</td>\n",
              "      <td>Partly cloudy throughout the day.</td>\n",
              "    </tr>\n",
              "    <tr>\n",
              "      <th>4</th>\n",
              "      <td>2006-04-01 04:00:00.000 +0200</td>\n",
              "      <td>Mostly Cloudy</td>\n",
              "      <td>rain</td>\n",
              "      <td>8.755556</td>\n",
              "      <td>6.977778</td>\n",
              "      <td>0.83</td>\n",
              "      <td>11.0446</td>\n",
              "      <td>259.0</td>\n",
              "      <td>15.8263</td>\n",
              "      <td>0.0</td>\n",
              "      <td>1016.51</td>\n",
              "      <td>Partly cloudy throughout the day.</td>\n",
              "    </tr>\n",
              "  </tbody>\n",
              "</table>\n",
              "</div>"
            ],
            "text/plain": [
              "                  Formatted Date        Summary Precip Type  Temperature (C)  \\\n",
              "0  2006-04-01 00:00:00.000 +0200  Partly Cloudy        rain         9.472222   \n",
              "1  2006-04-01 01:00:00.000 +0200  Partly Cloudy        rain         9.355556   \n",
              "2  2006-04-01 02:00:00.000 +0200  Mostly Cloudy        rain         9.377778   \n",
              "3  2006-04-01 03:00:00.000 +0200  Partly Cloudy        rain         8.288889   \n",
              "4  2006-04-01 04:00:00.000 +0200  Mostly Cloudy        rain         8.755556   \n",
              "\n",
              "   Apparent Temperature (C)  Humidity  Wind Speed (km/h)  \\\n",
              "0                  7.388889      0.89            14.1197   \n",
              "1                  7.227778      0.86            14.2646   \n",
              "2                  9.377778      0.89             3.9284   \n",
              "3                  5.944444      0.83            14.1036   \n",
              "4                  6.977778      0.83            11.0446   \n",
              "\n",
              "   Wind Bearing (degrees)  Visibility (km)  Loud Cover  Pressure (millibars)  \\\n",
              "0                   251.0          15.8263         0.0               1015.13   \n",
              "1                   259.0          15.8263         0.0               1015.63   \n",
              "2                   204.0          14.9569         0.0               1015.94   \n",
              "3                   269.0          15.8263         0.0               1016.41   \n",
              "4                   259.0          15.8263         0.0               1016.51   \n",
              "\n",
              "                       Daily Summary  \n",
              "0  Partly cloudy throughout the day.  \n",
              "1  Partly cloudy throughout the day.  \n",
              "2  Partly cloudy throughout the day.  \n",
              "3  Partly cloudy throughout the day.  \n",
              "4  Partly cloudy throughout the day.  "
            ]
          },
          "metadata": {
            "tags": []
          },
          "execution_count": 2
        }
      ]
    },
    {
      "cell_type": "markdown",
      "metadata": {
        "id": "QJ_RidhMjFW6"
      },
      "source": [
        "### **2 - Pre-process the data**\n",
        "\n",
        "We assume that the **Visibility** is dependent on Precipitation Type,\tTemperature,\tApparent Temperature,\tHumidity,\tWind Speed,\tWind Bearing, and\tPressure. \n",
        "\n",
        "First, we drop unrelated variables. Then, encode the Precipitation Type of snow to 1 and raining to 0. Finally, split the data to input and target."
      ]
    },
    {
      "cell_type": "code",
      "metadata": {
        "id": "US7jSyPFYC3Q",
        "outputId": "aff0dc08-1ac2-47d5-e2ae-7afc376ec3e4"
      },
      "source": [
        "sub_data_frame = data_frame.copy()\n",
        "\n",
        "# Drop Summary, Loud Cover, and Daily Summary columns\n",
        "sub_data_frame = sub_data_frame.drop(['Formatted Date', 'Summary', 'Loud Cover', 'Daily Summary'], axis=1)\n",
        "\n",
        "# Encode the 'Precip Type' column\n",
        "sub_data_frame['Precip Type'] = sub_data_frame['Precip Type'].apply(lambda x: 1 if x == 'snow' else 0)\n",
        "\n",
        " # Split the data into the input and target\n",
        "data = sub_data_frame.drop('Visibility (km)', axis=1).copy()\n",
        "target= sub_data_frame['Visibility (km)'].copy()\n",
        "data.head()\n",
        "target.head()\n",
        "sub_data_frame.head()"
      ],
      "execution_count": null,
      "outputs": [
        {
          "output_type": "execute_result",
          "data": {
            "text/html": [
              "<div>\n",
              "<style scoped>\n",
              "    .dataframe tbody tr th:only-of-type {\n",
              "        vertical-align: middle;\n",
              "    }\n",
              "\n",
              "    .dataframe tbody tr th {\n",
              "        vertical-align: top;\n",
              "    }\n",
              "\n",
              "    .dataframe thead th {\n",
              "        text-align: right;\n",
              "    }\n",
              "</style>\n",
              "<table border=\"1\" class=\"dataframe\">\n",
              "  <thead>\n",
              "    <tr style=\"text-align: right;\">\n",
              "      <th></th>\n",
              "      <th>Precip Type</th>\n",
              "      <th>Temperature (C)</th>\n",
              "      <th>Apparent Temperature (C)</th>\n",
              "      <th>Humidity</th>\n",
              "      <th>Wind Speed (km/h)</th>\n",
              "      <th>Wind Bearing (degrees)</th>\n",
              "      <th>Visibility (km)</th>\n",
              "      <th>Pressure (millibars)</th>\n",
              "    </tr>\n",
              "  </thead>\n",
              "  <tbody>\n",
              "    <tr>\n",
              "      <th>0</th>\n",
              "      <td>0</td>\n",
              "      <td>9.472222</td>\n",
              "      <td>7.388889</td>\n",
              "      <td>0.89</td>\n",
              "      <td>14.1197</td>\n",
              "      <td>251.0</td>\n",
              "      <td>15.8263</td>\n",
              "      <td>1015.13</td>\n",
              "    </tr>\n",
              "    <tr>\n",
              "      <th>1</th>\n",
              "      <td>0</td>\n",
              "      <td>9.355556</td>\n",
              "      <td>7.227778</td>\n",
              "      <td>0.86</td>\n",
              "      <td>14.2646</td>\n",
              "      <td>259.0</td>\n",
              "      <td>15.8263</td>\n",
              "      <td>1015.63</td>\n",
              "    </tr>\n",
              "    <tr>\n",
              "      <th>2</th>\n",
              "      <td>0</td>\n",
              "      <td>9.377778</td>\n",
              "      <td>9.377778</td>\n",
              "      <td>0.89</td>\n",
              "      <td>3.9284</td>\n",
              "      <td>204.0</td>\n",
              "      <td>14.9569</td>\n",
              "      <td>1015.94</td>\n",
              "    </tr>\n",
              "    <tr>\n",
              "      <th>3</th>\n",
              "      <td>0</td>\n",
              "      <td>8.288889</td>\n",
              "      <td>5.944444</td>\n",
              "      <td>0.83</td>\n",
              "      <td>14.1036</td>\n",
              "      <td>269.0</td>\n",
              "      <td>15.8263</td>\n",
              "      <td>1016.41</td>\n",
              "    </tr>\n",
              "    <tr>\n",
              "      <th>4</th>\n",
              "      <td>0</td>\n",
              "      <td>8.755556</td>\n",
              "      <td>6.977778</td>\n",
              "      <td>0.83</td>\n",
              "      <td>11.0446</td>\n",
              "      <td>259.0</td>\n",
              "      <td>15.8263</td>\n",
              "      <td>1016.51</td>\n",
              "    </tr>\n",
              "  </tbody>\n",
              "</table>\n",
              "</div>"
            ],
            "text/plain": [
              "   Precip Type  Temperature (C)  Apparent Temperature (C)  Humidity  \\\n",
              "0            0         9.472222                  7.388889      0.89   \n",
              "1            0         9.355556                  7.227778      0.86   \n",
              "2            0         9.377778                  9.377778      0.89   \n",
              "3            0         8.288889                  5.944444      0.83   \n",
              "4            0         8.755556                  6.977778      0.83   \n",
              "\n",
              "   Wind Speed (km/h)  Wind Bearing (degrees)  Visibility (km)  \\\n",
              "0            14.1197                   251.0          15.8263   \n",
              "1            14.2646                   259.0          15.8263   \n",
              "2             3.9284                   204.0          14.9569   \n",
              "3            14.1036                   269.0          15.8263   \n",
              "4            11.0446                   259.0          15.8263   \n",
              "\n",
              "   Pressure (millibars)  \n",
              "0               1015.13  \n",
              "1               1015.63  \n",
              "2               1015.94  \n",
              "3               1016.41  \n",
              "4               1016.51  "
            ]
          },
          "metadata": {
            "tags": []
          },
          "execution_count": 10
        }
      ]
    },
    {
      "cell_type": "markdown",
      "metadata": {
        "id": "BozchbqnmMcc"
      },
      "source": [
        "**Question 1.** Now, you are asked to split our data into training and test data by using scikit learn library, with the proportion of 75% training data and 25% of test data. *(10 points)*"
      ]
    },
    {
      "cell_type": "code",
      "metadata": {
        "id": "bRXrX0uFYGcJ"
      },
      "source": [
        "import numpy as np\n",
        "np.random.seed(123)\n",
        "y = target\n",
        "X = data \n",
        "from sklearn.model_selection import train_test_split\n",
        "X_train, X_test, y_train, y_test = train_test_split(X, y,train_size=.75,test_size=0.25)"
      ],
      "execution_count": null,
      "outputs": []
    },
    {
      "cell_type": "markdown",
      "metadata": {
        "id": "yirQv8NqoKqD"
      },
      "source": [
        "**Question 2.** Why do we need a training and test data to develope a machine learning model? *(10 points)*\n",
        "\n",
        "> **Answer.** *(Training dats is to help the ML model to learn and make predictions, and the test data is used to check the level of prediction generated in the traning seciton.In order to increase the accuracy of the model,it is important to divide the data into train and test sets. Also,it will benefit the whole training process.)*\n",
        "\n",
        "**Question 3.** Ussualy, we also have another set called validation data, you are free to search on the internet and write a short answer of your understanding about the validation data? *(5 points)*\n",
        "\n",
        "> **Answer.** *(Sometimes, a dataset can be divided into three sub-sets. training data, test data, and validation data. The parameters generated from the validation data are always used to evaluate the model generated by traning data. This division are commonly seen in cross validation method)*"
      ]
    },
    {
      "cell_type": "markdown",
      "metadata": {
        "id": "T7wLhnrAqtE9"
      },
      "source": [
        "### **3 - Build a regression model**\n",
        "\n",
        "**Question 4.** In this section, you are ask to\n",
        "* Build a simple regression model from scikit learn library. *(25 points)*\n",
        "* Predict and print out the error of the model on the test set. *(25 points)*"
      ]
    },
    {
      "cell_type": "code",
      "metadata": {
        "id": "wFsDFBefnp48",
        "outputId": "aa9360bf-aa0e-41b5-bb0e-b3fbd931e2ef"
      },
      "source": [
        "# Create and fit the model\n",
        "from sklearn.linear_model import LinearRegression\n",
        "clf = LinearRegression (fit_intercept = False)\n",
        "clf.fit (X_train, y_train)\n",
        "predicted =  clf.predict (X_test)\n",
        "expected =  y_test\n",
        "# Predict and calculate the error of model on test set\n",
        "rmse = np.sqrt(np.mean((expected - predicted) ** 2))\n",
        "print(\"Root mean square error: {:.2f}\".format(rmse))"
      ],
      "execution_count": null,
      "outputs": [
        {
          "output_type": "stream",
          "text": [
            "Root mean square error: 3.84\n"
          ],
          "name": "stdout"
        }
      ]
    },
    {
      "cell_type": "markdown",
      "metadata": {
        "id": "vyMYMHTArjUG"
      },
      "source": [
        "**Question 5.** By checking the coefficients of the model, let us know what features have nagative or positive impact on the Visibility? *(25 points)*\n",
        "> **Answer.** *(negative impact: Precipitation Type, Apparent Temperature, Humidity)\n",
        "positive impact: Temperature, Wind Speed, Wind Bearing, and Pressure)*"
      ]
    },
    {
      "cell_type": "code",
      "metadata": {
        "id": "pwKItEsCqYKN",
        "outputId": "ba9c47cb-5e3e-4d9c-d416-c99fd30bc389"
      },
      "source": [
        "# print the coefficient\n",
        "print ('Coefficient:{:.2f}',clf.coef_)\n",
        "\n",
        "\n",
        "# plot of predicted and expected visibility \n",
        "import matplotlib.pyplot as plt\n",
        "plt.figure(figsize=(8, 4))\n",
        "plt.scatter(expected, predicted, color=\"pink\")"
      ],
      "execution_count": null,
      "outputs": [
        {
          "output_type": "stream",
          "text": [
            "Coefficient:{:.2f} [-1.57070711  0.38189606 -0.21710135 -0.86520005  0.04767966  0.00222582\n",
            "  0.00793265]\n"
          ],
          "name": "stdout"
        },
        {
          "output_type": "execute_result",
          "data": {
            "text/plain": [
              "<matplotlib.collections.PathCollection at 0x1305fb640>"
            ]
          },
          "metadata": {
            "tags": []
          },
          "execution_count": 45
        },
        {
          "output_type": "display_data",
          "data": {
            "image/png": "[encoded data removed]",
            "text/plain": [
              "<Figure size 576x288 with 1 Axes>"
            ]
          },
          "metadata": {
            "tags": [],
            "needs_background": "light"
          }
        }
      ]
    },
    {
      "cell_type": "markdown",
      "metadata": {
        "id": "G9k41FQFtfdD"
      },
      "source": [
        "### **Submission.** \n",
        "After finish all the questions, to create a submission file: on the top tool bar, select **File** $\\rightarrow$ **Print**, at **Detination** select **Save as PDF**. \\\\\n",
        "Finally, **only upload your PDF file on iCampus.**"
      ]
    },
    {
      "cell_type": "code",
      "metadata": {
        "id": "Orl_-L70utdx"
      },
      "source": [
        ""
      ],
      "execution_count": null,
      "outputs": []
    }
  ]
}